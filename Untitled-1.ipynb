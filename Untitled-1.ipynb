{
 "cells": [
  {
   "cell_type": "code",
   "execution_count": 60,
   "metadata": {},
   "outputs": [
    {
     "name": "stderr",
     "output_type": "stream",
     "text": [
      "C:\\Users\\Faraz Ahmadi\\AppData\\Local\\Temp\\ipykernel_20420\\1551645400.py:4: DeprecationWarning: \n",
      "Pyarrow will become a required dependency of pandas in the next major release of pandas (pandas 3.0),\n",
      "(to allow more performant data types, such as the Arrow string type, and better interoperability with other libraries)\n",
      "but was not found to be installed on your system.\n",
      "If this would cause problems for you,\n",
      "please provide us feedback at https://github.com/pandas-dev/pandas/issues/54466\n",
      "        \n",
      "  import pandas as pd\n"
     ]
    }
   ],
   "source": [
    "from secret import OPENAI_API_KEY\n",
    "import numpy as np\n",
    "from openai import OpenAI\n",
    "import pandas as pd\n"
   ]
  },
  {
   "cell_type": "code",
   "execution_count": 114,
   "metadata": {},
   "outputs": [
    {
     "data": {
      "text/plain": [
       "array(['1. Take control of your A1C levels with Ozempic® (semaglutide) injection, designed to meet the needs of a variety of patients with type 2 diabetes.',\n",
       "       '2. Regain control over your A1C levels by choosing Ozempic® (semaglutide) injection, a versatile treatment option for different types of patients with type 2 diabetes.',\n",
       "       '3. Achieve better A1C control with Ozempic® (semaglutide) injection, a tailored solution for a wide range of patient needs related to type 2 diabetes.',\n",
       "       '4. Manage your A1C levels effectively with Ozempic® (semaglutide) injection, a comprehensive treatment option that caters to various needs of patients with type 2 diabetes.',\n",
       "       '5. Empower yourself with the ability to control your A1C levels using Ozempic® (semaglutide) injection, a flexible treatment choice suitable for diverse individuals managing type 2 diabetes.'],\n",
       "      dtype='<U190')"
      ]
     },
     "execution_count": 114,
     "metadata": {},
     "output_type": "execute_result"
    }
   ],
   "source": [
    "\n",
    "client = OpenAI(api_key=OPENAI_API_KEY)\n",
    "sentence = 'Ozempic® (semaglutide) injection—A1C control within your control for a range of T2D patient needs'\n",
    "response = client.chat.completions.create(\n",
    "  model=\"gpt-3.5-turbo\",\n",
    "  messages=[\n",
    "    {\n",
    "      \"role\": \"system\",\n",
    "      \"content\": \"You are a marketer working for a pharmaceutical company. Your job is to generate multiple variations of core marketing claims while maintaining regulatory compliance and key factual information.\"\n",
    "    },\n",
    "    {\n",
    "      \"role\": \"user\",\n",
    "      \"content\": f\"Generate 5 different variations of the Text Below: \\n\\n Text: {sentence}\"\n",
    "    }\n",
    "  ],\n",
    "  temperature=0.8,\n",
    "  max_tokens=256,\n",
    "  top_p=1\n",
    ")\n",
    "\n",
    "# parse the response into a list of strings\n",
    "np.array(response.choices[0].message.content.split(\"\\n\"))"
   ]
  },
  {
   "cell_type": "code",
   "execution_count": 115,
   "metadata": {},
   "outputs": [
    {
     "data": {
      "text/plain": [
       "array(['1. Take control of your A1C levels with Ozempic® (semaglutide) injection—empowering T2D patients to manage their needs effectively.',\n",
       "       '2. Manage your A1C levels on your terms with Ozempic® (semaglutide) injection—customized solutions for varying needs of T2D patients.',\n",
       "       '3. Ozempic® (semaglutide) injection—unlocking A1C control for diverse T2D patient requirements.',\n",
       "       '4. Gain control over your A1C levels with Ozempic® (semaglutide) injection—tailored solutions for a wide spectrum of T2D patient needs.',\n",
       "       '5. Take charge of A1C control with Ozempic® (semaglutide) injection—meeting the unique needs of T2D patients every step of the way.'],\n",
       "      dtype='<U135')"
      ]
     },
     "execution_count": 115,
     "metadata": {},
     "output_type": "execute_result"
    }
   ],
   "source": [
    "\n",
    "client = OpenAI(api_key=OPENAI_API_KEY)\n",
    "sentence = 'Ozempic® (semaglutide) injection—A1C control within your control for a range of T2D patient needs'\n",
    "response = client.chat.completions.create(\n",
    "  model=\"gpt-3.5-turbo\",\n",
    "  messages=[\n",
    "    {\n",
    "      \"role\": \"system\",\n",
    "      \"content\": \"You are a marketer working for a pharmaceutical company. Your job is to generate multiple variations of core marketing claims while maintaining regulatory compliance and key factual information.\"\n",
    "    },\n",
    "    {\n",
    "      \"role\": \"user\",\n",
    "      \"content\": f\"Generate 5 different variations of the Text Below: \\n\\n Text: {sentence}\"\n",
    "    }\n",
    "  ],\n",
    "  temperature=0.8,\n",
    "  max_tokens=256,\n",
    "  top_p=1\n",
    ")\n",
    "\n",
    "# parse the response into a list of strings\n",
    "np.array(response.choices[0].message.content.split(\"\\n\"))"
   ]
  },
  {
   "cell_type": "markdown",
   "metadata": {},
   "source": [
    "> Instruct-gpt is a better, smaller model for our usecase. Chatgpt turbo is mostly used for chatbots and is a larger model."
   ]
  },
  {
   "cell_type": "code",
   "execution_count": 112,
   "metadata": {},
   "outputs": [
    {
     "data": {
      "text/plain": [
       "array(['', '',\n",
       "       '1. \"Take control of your A1C levels with Ozempic® (semaglutide) injection for T2D patients of all needs\"',\n",
       "       '2. \"Achieve A1C control on your terms with Ozempic® (semaglutide) injection for diverse T2D patient needs\"',\n",
       "       '3. \"Empower yourself to manage A1C levels with Ozempic® (semaglutide) injection, tailored to fit various T2D patient needs\"',\n",
       "       '4. \"Experience A1C control within reach thanks to Ozempic® (semaglutide) injection, designed for a range of T2D patient needs\"',\n",
       "       '5. \"Discover customizable A1C management with Ozempic® (semaglutide) injection, perfect for all types of T2D patients\"'],\n",
       "      dtype='<U126')"
      ]
     },
     "execution_count": 112,
     "metadata": {},
     "output_type": "execute_result"
    }
   ],
   "source": [
    "Role = \"You are a marketer working for a pharmaceutical company. Your job is to generate multiple variations of core marketing claims while maintaining regulatory compliance and key factual information.\"\n",
    "Task = \"Generate 5 different variations of the claim below about a drug: You can expand acronyms and abbreviations as needed. \"\n",
    "Sentence = \"Ozempic® (semaglutide) injection—A1C control within your control for a range of T2D patient needs\"\n",
    "\n",
    "\n",
    "params = {\n",
    "    \"model\": \"gpt-3.5-turbo-instruct\",\n",
    "    \"prompt\": f\"{Role}\\n{Task}\\nText:'''{Sentence}'''\",\n",
    "    \"temperature\": 0.8,\n",
    "    \"max_tokens\": 512,\n",
    "    \"top_p\": 1\n",
    "    \n",
    "}\n",
    "response = client.completions.create(**params\n",
    ")\n",
    "\n",
    "np.array(response.choices[0].text.split(\"\\n\"))"
   ]
  },
  {
   "cell_type": "code",
   "execution_count": 116,
   "metadata": {},
   "outputs": [
    {
     "data": {
      "text/plain": [
       "array(['', '',\n",
       "       '1. Take control of your A1C levels with Ozempic® (semaglutide) injection - the solution for a variety of T2D patient needs.',\n",
       "       '2. Achieve A1C control with ease using Ozempic® (semaglutide) injection - the perfect fit for all types of T2D patients.',\n",
       "       '3. Say goodbye to unmanageable A1C levels and hello to Ozempic® (semaglutide) injection - the answer to diverse T2D patient needs.',\n",
       "       '4. Ozempic® (semaglutide) injection - the key to controlling A1C levels in a way that works for any type of T2D patient.',\n",
       "       \"5. Don't let T2D control your A1C levels - take charge with Ozempic® (semaglutide) injection, designed to meet a range of patient needs. \"],\n",
       "      dtype='<U137')"
      ]
     },
     "execution_count": 116,
     "metadata": {},
     "output_type": "execute_result"
    }
   ],
   "source": [
    "Role = \"You are a marketer working for a pharmaceutical company. Your job is to generate multiple variations of core marketing claims while maintaining regulatory compliance and key factual information.\"\n",
    "Task = \"Generate 5 different variations of the text below about a drug. Feel free to change the wording, but keep the meaning the same. Also, medical abbreviations such as T2D (type 2 diabetes) or MACE (Major adverse cardiovascular events) can be expanded.\"\n",
    "Sentence = \"Ozempic® (semaglutide) injection—A1C control within your control for a range of T2D patient needs\"\n",
    "\n",
    "\n",
    "params = {\n",
    "    \"model\": \"gpt-3.5-turbo-instruct\",\n",
    "    \"prompt\": f\"{Role}\\n{Task}\\nText:'''{Sentence}'''\",\n",
    "    \"temperature\": 0.8,\n",
    "    \"max_tokens\": 512,\n",
    "    \"top_p\": 1\n",
    "    \n",
    "}\n",
    "response = client.completions.create(**params\n",
    ")\n",
    "\n",
    "np.array(response.choices[0].text.split(\"\\n\"))"
   ]
  },
  {
   "cell_type": "markdown",
   "metadata": {},
   "source": [
    "> sometimes changes abbrevations to full form and vice versa. That can be a seperate feature too."
   ]
  },
  {
   "cell_type": "code",
   "execution_count": 71,
   "metadata": {},
   "outputs": [
    {
     "name": "stdout",
     "output_type": "stream",
     "text": [
      "Total number of claims:  28\n"
     ]
    }
   ],
   "source": [
    "df = pd.read_excel(\"./data/Claims.xlsx\")\n",
    "claims = df['TEXT'].replace(\"\\n \", \"\", regex=False).dropna().drop_duplicates().tolist()\n",
    "print(\"Total number of claims: \", len(claims))\n",
    "# claims"
   ]
  },
  {
   "cell_type": "code",
   "execution_count": 103,
   "metadata": {},
   "outputs": [
    {
     "data": {
      "text/plain": [
       "['For adults with T2D and established CVD, to reduce risk of MACE',\n",
       " 'Ozempic® (semaglutide) is the #1 prescribed branded diabetes medication for new prescriptionsa',\n",
       " 'PROVEN CV RISK REDUCTION',\n",
       " 'POWERFUL GLYCEMIC CONTROL',\n",
       " 'COMPELLING WEIGHT LOSS',\n",
       " 'TEXT',\n",
       " 'For adults with T2D and established CVD, to reduce risk of MACE1,b',\n",
       " 'Ozempic® significantly reduced risk of MACE',\n",
       " 'Ozempic® achieved superior A1C reductions',\n",
       " 'Compelling weight loss across doses with Ozempic®',\n",
       " '#1 Prescribed branded diabetes medication for new prescriptions in the US',\n",
       " '5.9 Million patients prescribed worldwide',\n",
       " 'Glucagon-like peptide-1 (GLP-1) is a physiological hormone that has multiple actions on glucose, mediated by the GLP-1 receptors. Ozempic® acts as a GLP-1 receptor agonist that selectively binds to and activates the GLP-1 receptor, the target for native GLP-1.',\n",
       " 'Ozempic® lowers fasting and postprandial blood glucose by stimulating insulin secretion in a glucose-dependent manner. With Ozempic®, the insulin secretion rate in patients with type 2 diabetes was similar to that of healthy subjects.',\n",
       " 'Ozempic® lowers glucagon secretion in a glucose-dependent manner.',\n",
       " 'Ozempic® causes a minor delay in gastric emptying, thereby reducing the rate at which glucose appears in circulation postprandially.',\n",
       " 'Ozempic® is a GLP‑1 analog with 94% sequence homology to human GLP‑1',\n",
       " 'Structural modifications of the Ozempic® molecule result in decreased renal clearance and protection from metabolic degradation.',\n",
       " 'Ozempic® delivers weeklong coverage',\n",
       " 'Ozempic® provided similar insulin response to people without type 2 diabetes',\n",
       " 'Ozempic® (semaglutide) injection—A1C control within your control for a range of T2D patient needs',\n",
       " 'THE POWER TO DROP A1C BY MORE THAN 2% WITH OZEMPIC 2MG',\n",
       " 'Mean change in A1C from baseline at Week 30',\n",
       " 'SUSTAIN 4: Results are from a 30-week, randomized, open-label, active-controlled trial in 1089 insulin-naïve adult patients on metformin ± sulfonylurea with type 2 diabetes comparing Ozempic® 0.5 mg and Ozempic® 1 mg with Lantus®.',\n",
       " 'SUSTAIN FORTE: Results are from a 40-week, randomized, active-controlled trial in 961 adult patients with type 2 diabetes on metformin with or without a sulfonylurea, comparing Ozempic® 1 mg with Ozempic® 2 mg.',\n",
       " 'AEs occurring in ≥5% of participants treated with Ozempic® in SUSTAIN 4',\n",
       " 'SUSTAIN 5: Results are from a 30-week, randomized, double-blind, placebo-controlled, parallel-group trial in 397 adult patients with type 2 diabetes evaluating the addition of Ozempic® 0.5 mg and Ozempic® 1 mg to basal insulin ± metformin.',\n",
       " 'AEs occurring in ≥5% of participants treated with Ozempic® in SUSTAIN 5']"
      ]
     },
     "execution_count": 103,
     "metadata": {},
     "output_type": "execute_result"
    }
   ],
   "source": [
    "claims"
   ]
  },
  {
   "cell_type": "code",
   "execution_count": null,
   "metadata": {},
   "outputs": [],
   "source": [
    "Role = \"You are a marketer working for a pharmaceutical company. Your job is to generate multiple variations of core marketing claims while maintaining regulatory compliance and key factual information.\"\n",
    "Task = \"Generate 5 different variations of the claim below about a drug:\"\n",
    "# Sentence = \"Ozempic® (semaglutide) injection—A1C control within your control for a range of T2D patient needs\"\n",
    "\n",
    "\n",
    "params = {\n",
    "    \"model\": \"gpt-3.5-turbo-instruct\",\n",
    "    # \"prompt\": f\"{Role}\\n{Task}\\nText:'''{Sentence}'''\",\n",
    "    \"temperature\": 0.8,\n",
    "    \"max_tokens\": 512,\n",
    "    \"top_p\": 1\n",
    "    \n",
    "}\n",
    "response = client.completions.create(**params)"
   ]
  },
  {
   "cell_type": "code",
   "execution_count": 100,
   "metadata": {},
   "outputs": [],
   "source": [
    "final = []\n",
    "for i, claim in enumerate(claims):\n",
    "    params[\"prompt\"] = f\"{Role}\\n{Task}\\nText:'''{claim}'''\"\n",
    "    response = client.completions.create(**params)\n",
    "    xx = pd.Series(response.choices[0].text.split(\"\\n\"))\n",
    "    xx = xx.replace(\"\\n \", '', regex=True)\n",
    "    xx = xx.replace(\"\", np.nan, regex=True)\n",
    "    xx = xx.dropna().reset_index()\n",
    "    xx['index'] = i\n",
    "    xx['main_claim'] = claim\n",
    "    final.append(xx)\n"
   ]
  },
  {
   "cell_type": "code",
   "execution_count": 105,
   "metadata": {},
   "outputs": [],
   "source": [
    "final = pd.concat(final)\n",
    "final.rename(columns={\"index\": \"claim_id\", 0: \"variations\"}, inplace=True)\n",
    "final[['claim_id', 'main_claim', 'variations']].to_excel(\"./data/Claims_Variations.xlsx\", index=False)"
   ]
  }
 ],
 "metadata": {
  "kernelspec": {
   "display_name": ".env",
   "language": "python",
   "name": "python3"
  },
  "language_info": {
   "codemirror_mode": {
    "name": "ipython",
    "version": 3
   },
   "file_extension": ".py",
   "mimetype": "text/x-python",
   "name": "python",
   "nbconvert_exporter": "python",
   "pygments_lexer": "ipython3",
   "version": "3.10.1"
  }
 },
 "nbformat": 4,
 "nbformat_minor": 2
}
