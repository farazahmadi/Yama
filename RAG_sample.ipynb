{
 "cells": [
  {
   "cell_type": "code",
   "execution_count": 3,
   "metadata": {},
   "outputs": [],
   "source": [
    "# add open ai secret key to the environment\n",
    "import os, re\n",
    "from secret import MY_API_KEY\n",
    "import spacy\n",
    "from spacypdfreader.spacypdfreader import pdf_reader\n",
    "from haystack import Pipeline, Document\n",
    "from haystack.document_stores.in_memory import InMemoryDocumentStore\n",
    "from haystack.components.converters import PyPDFToDocument\n",
    "from haystack.components.preprocessors import DocumentCleaner\n",
    "from haystack.components.preprocessors import DocumentSplitter\n",
    "from haystack.components.writers import DocumentWriter\n",
    "from pathlib import Path\n",
    "\n",
    "document_store = InMemoryDocumentStore()\n",
    "pdf_path = './data/MASTER_TremfyaPM_08Nov2022_annotated.pdf'\n",
    "\n",
    "\n",
    " \n",
    "def load_pdf_spacy(pdf_path):\n",
    "    nlp = spacy.load('en_core_web_sm')\n",
    "    doc = pdf_reader(pdf_path, nlp)\n",
    "    return doc\n",
    "\n",
    "spacy_doc = load_pdf_spacy(pdf_path)\n",
    "\n",
    "docs = []\n",
    "RE_EXCESS_NEWLINE = re.compile(r\"\\n(?=[a-z])\") # A \\n followed by a lowercase character\n",
    "\n",
    "for p in range(1, spacy_doc._.page_range[1] + 1):\n",
    "    docs.append(Document(\n",
    "        content=RE_EXCESS_NEWLINE.sub(\"\", spacy_doc._.page(p).text), \n",
    "        meta={\n",
    "            'source': spacy_doc._.pdf_file_name,\n",
    "            'page': p, \n",
    "            'drug-name': 'Tremfya',\n",
    "            'material-type': 'PM', # can use marketing material, etc\n",
    "            }))\n"
   ]
  },
  {
   "cell_type": "code",
   "execution_count": 4,
   "metadata": {},
   "outputs": [
    {
     "name": "stdout",
     "output_type": "stream",
     "text": [
      "Initial number of pages:  47\n",
      "Final number of chunks:  290\n"
     ]
    }
   ],
   "source": [
    "splitter = DocumentSplitter(split_by='passage', split_length= 4, split_overlap=1) # initial 2 and 0\n",
    "final_docs = splitter.run(docs)\n",
    "print(\"Initial number of pages: \", len(docs))\n",
    "print(\"Final number of chunks: \", len(final_docs['documents']))"
   ]
  },
  {
   "cell_type": "code",
   "execution_count": 5,
   "metadata": {},
   "outputs": [
    {
     "data": {
      "application/vnd.jupyter.widget-view+json": {
       "model_id": "33297dc2a6d94cf68fdfeef751a4dd6e",
       "version_major": 2,
       "version_minor": 0
      },
      "text/plain": [
       "Batches:   0%|          | 0/10 [00:00<?, ?it/s]"
      ]
     },
     "metadata": {},
     "output_type": "display_data"
    },
    {
     "data": {
      "text/plain": [
       "290"
      ]
     },
     "execution_count": 5,
     "metadata": {},
     "output_type": "execute_result"
    }
   ],
   "source": [
    "from haystack.components.embedders import SentenceTransformersDocumentEmbedder\n",
    "from haystack.document_stores.types import DuplicatePolicy\n",
    "\n",
    "doc_embedder = SentenceTransformersDocumentEmbedder(model=\"sentence-transformers/all-MiniLM-L6-v2\")\n",
    "doc_embedder.warm_up()\n",
    "\n",
    "docs_with_embeddings = doc_embedder.run(final_docs['documents'])\n",
    "document_store.write_documents(docs_with_embeddings[\"documents\"], policy=DuplicatePolicy.SKIP)"
   ]
  },
  {
   "cell_type": "markdown",
   "metadata": {},
   "source": [
    "# Initialzing the Retrieval System\n",
    "\n",
    "\n"
   ]
  },
  {
   "cell_type": "code",
   "execution_count": 6,
   "metadata": {},
   "outputs": [],
   "source": [
    "from haystack.components.embedders import SentenceTransformersTextEmbedder\n",
    "from haystack.components.retrievers.in_memory import InMemoryEmbeddingRetriever\n",
    "from haystack.components.builders import PromptBuilder\n",
    "import os\n",
    "from getpass import getpass\n",
    "from haystack.components.generators import OpenAIGenerator\n",
    "\n",
    "os.environ[\"OPENAI_API_KEY\"] = MY_API_KEY\n",
    "\n",
    "text_embedder = SentenceTransformersTextEmbedder(model=\"sentence-transformers/all-MiniLM-L6-v2\")\n",
    "retriever = InMemoryEmbeddingRetriever(document_store=document_store)\n",
    "\n",
    "template = \"\"\"\n",
    "Given the following information, answer the question.\n",
    "\n",
    "Context:\n",
    "{% for document in documents %}\n",
    "    {{ document.content }}\n",
    "{% endfor %}\n",
    "\n",
    "Question: {{question}}\n",
    "Answer:\n",
    "\"\"\"\n",
    "\n",
    "prompt_builder = PromptBuilder(template=template)\n",
    "generator = OpenAIGenerator(model=\"gpt-3.5-turbo\", generation_kwargs={'temperature': 0.2})\n",
    "# from openai import OpenAI\n",
    "# client = OpenAI()\n",
    "\n",
    "# completion = client.chat.completions.create(\n",
    "#   model=\"gpt-3.5-turbo\",\n",
    "#   messages=[\n",
    "#     {\"role\": \"system\", \"content\": \"You are a helpful assistant.\"},\n",
    "#     {\"role\": \"user\", \"content\": \"Hello!\"}\n",
    "#   ]\n",
    "# )\n",
    "\n",
    "# print(completion.choices[0].message)\n",
    "\n",
    "basic_rag_pipeline = Pipeline()\n",
    "# Add components to your pipeline\n",
    "basic_rag_pipeline.add_component(\"text_embedder\", text_embedder)\n",
    "basic_rag_pipeline.add_component(\"retriever\", retriever)\n",
    "basic_rag_pipeline.add_component(\"prompt_builder\", prompt_builder)\n",
    "basic_rag_pipeline.add_component(\"llm\", generator)\n",
    "\n",
    "# Now, connect the components to each other\n",
    "basic_rag_pipeline.connect(\"text_embedder.embedding\", \"retriever.query_embedding\")\n",
    "basic_rag_pipeline.connect(\"retriever\", \"prompt_builder.documents\")\n",
    "basic_rag_pipeline.connect(\"prompt_builder\", \"llm\")\n",
    "basic_rag_pipeline.warm_up()"
   ]
  },
  {
   "cell_type": "code",
   "execution_count": 7,
   "metadata": {},
   "outputs": [
    {
     "data": {
      "application/vnd.jupyter.widget-view+json": {
       "model_id": "10b7efd84f4d4cc18bc01c5035e41546",
       "version_major": 2,
       "version_minor": 0
      },
      "text/plain": [
       "Batches:   0%|          | 0/1 [00:00<?, ?it/s]"
      ]
     },
     "metadata": {},
     "output_type": "display_data"
    },
    {
     "name": "stdout",
     "output_type": "stream",
     "text": [
      "The relevant warnings, side effects, and precautions for Tremfya include:\n",
      "\n",
      "1. Do not use Tremfya if you have any symptoms of infection unless instructed by your healthcare provider.\n",
      "2. Look out for infections and allergic reactions.\n",
      "3. Common side effects may include injection site reactions, respiratory tract infections, and increased transaminases.\n",
      "4. Less common clinical trial adverse reactions may include candida infections, migraine, and urticaria.\n",
      "5. Geriatric patients may have limited data on the use of Tremfya.\n",
      "6. Tremfya is contraindicated in patients with known serious hypersensitivity to guselkumab or any of the components.\n"
     ]
    }
   ],
   "source": [
    "question = \"What are the relevant warnings, side effects, and precautions for Tremfya?\"\n",
    "\n",
    "response = basic_rag_pipeline.run({\"text_embedder\": {\"text\": question}, \"prompt_builder\": {\"question\": question}})\n",
    "\n",
    "print(response[\"llm\"][\"replies\"][0])"
   ]
  },
  {
   "cell_type": "code",
   "execution_count": 8,
   "metadata": {},
   "outputs": [
    {
     "data": {
      "text/plain": [
       "{'llm': {'replies': ['The relevant warnings, side effects, and precautions for Tremfya include:\\n\\n1. Do not use Tremfya if you have any symptoms of infection unless instructed by your healthcare provider.\\n2. Look out for infections and allergic reactions.\\n3. Common side effects may include injection site reactions, respiratory tract infections, and increased transaminases.\\n4. Less common clinical trial adverse reactions may include candida infections, migraine, and urticaria.\\n5. Geriatric patients may have limited data on the use of Tremfya.\\n6. Tremfya is contraindicated in patients with known serious hypersensitivity to guselkumab or any of the components.'],\n",
       "  'meta': [{'model': 'gpt-3.5-turbo-0125',\n",
       "    'index': 0,\n",
       "    'finish_reason': 'stop',\n",
       "    'usage': {'completion_tokens': 136,\n",
       "     'prompt_tokens': 1397,\n",
       "     'total_tokens': 1533}}]}}"
      ]
     },
     "execution_count": 8,
     "metadata": {},
     "output_type": "execute_result"
    }
   ],
   "source": [
    "response"
   ]
  },
  {
   "cell_type": "code",
   "execution_count": 9,
   "metadata": {},
   "outputs": [
    {
     "data": {
      "application/vnd.jupyter.widget-view+json": {
       "model_id": "860783c20cc243f6bb3d940da3aa501a",
       "version_major": 2,
       "version_minor": 0
      },
      "text/plain": [
       "Batches:   0%|          | 0/1 [00:00<?, ?it/s]"
      ]
     },
     "metadata": {},
     "output_type": "display_data"
    }
   ],
   "source": [
    "text_embedder = SentenceTransformersTextEmbedder(model=\"sentence-transformers/all-MiniLM-L6-v2\")\n",
    "retriever = InMemoryEmbeddingRetriever(document_store=document_store, top_k=5)\n",
    "prompt_builder = PromptBuilder(template=template)\n",
    "\n",
    "# test the output of retriver\n",
    "basic_rag_pipeline = Pipeline()\n",
    "# Add components to your pipeline\n",
    "basic_rag_pipeline.add_component(\"text_embedder\", text_embedder)\n",
    "basic_rag_pipeline.add_component(\"retriever\", retriever)\n",
    "basic_rag_pipeline.add_component(\"prompt_builder\", prompt_builder)\n",
    "# basic_rag_pipeline.add_component(\"llm\", generator)\n",
    "\n",
    "# Now, connect the components to each other\n",
    "basic_rag_pipeline.connect(\"text_embedder.embedding\", \"retriever.query_embedding\")\n",
    "basic_rag_pipeline.connect(\"retriever\", \"prompt_builder.documents\")\n",
    "# basic_rag_pipeline.connect(\"prompt_builder\", \"llm\")\n",
    "\n",
    "question = \"The indications of Tremfya. Tremfya is used to cure\"\n",
    "response = basic_rag_pipeline.run({\"text_embedder\": {\"text\": question}, \"prompt_builder\": {\"question\": question}})"
   ]
  },
  {
   "cell_type": "code",
   "execution_count": 10,
   "metadata": {},
   "outputs": [
    {
     "name": "stdout",
     "output_type": "stream",
     "text": [
      "\n",
      "Given the following information, answer the question.\n",
      "\n",
      "Context:\n",
      "\n",
      "    Look out for infections and allergic reactions\n",
      "\n",
      " Do not use TREMFYA®/TREMFYA One-Press® if you have any symptoms of infection \n",
      "unless you are instructed by your healthcare provider.\n",
      "\n",
      "TRE11082022CPM_SNDS 259046.docx\n",
      "EDMS-ERI-121169578 v15.0\n",
      "\n",
      "Page 28 of 47\n",
      "\n",
      "\n",
      "\n",
      "    Infections\n",
      "\n",
      "TREMFYA®/TREMFYA One-Press® is a selective immunomodulatory agent which has the potential to increase the risk of infection. Infections have been observed in clinical trials in plaque psoriasis (23% vs 21% for placebo; ≤ 0.2% serious infections in both groups) and psoriatic arthritis (21% in both TREMFYA® and placebo groups; ≤ 0.8% serious infections in both groups). The most common type of infection reported was respiratory tract infection. (See \n",
      "8 ADVERSE REACTIONS, Infections)\n",
      "\n",
      "Treatment with TREMFYA®/TREMFYA One-Press® should not be initiated in patients with any clinically important active infection until the infection resolves or is adequately treated. \n",
      "\n",
      "Instruct patients treated with TREMFYA®/TREMFYA One-Press® to seek medical advice if signs or symptoms of clinically important chronic or acute infection occur. If a patient develops a clinically important or serious infection or is not responding to standard therapy, monitor the patient closely and discontinue TREMFYA®/TREMFYA One-Press® until the infection resolves.\n",
      "\n",
      "\n",
      "\n",
      "    TREMFYA®/TREMFYA One-Press® is intended for use under the guidance and supervision of a physician. \n",
      "\n",
      "TREMFYA®/TREMFYA One-Press® may be administered by a healthcare professional, or a patient or caregiver may administer the injection after proper training in subcutaneous injection technique. \n",
      "\n",
      "4.2 Recommended Dose and Dosage Adjustment\n",
      "\n",
      "Plaque psoriasis\n",
      "The recommended dose of TREMFYA®/TREMFYA One-Press® is 100 mg to be given as \n",
      "\n",
      "\n",
      "\n",
      "    \n",
      "\n",
      "1.1 Pediatrics\n",
      "\n",
      "1.2 Geriatrics\n",
      "\n",
      "TREMFYA®/TREMFYA One-Press® (guselkumab injection) is indicated for:\n",
      "the treatment of adult patients with moderate-to-severe plaque psoriasis who are candidates for systemic therapy or phototherapy. \n",
      "\n",
      "\n",
      "\n",
      "    Non-medicinal ingredients: L-histidine, L-histidine monohydrochloride monohydrate, polysorbate \n",
      "80, sucrose and water for injection.\n",
      "\n",
      "TREMFYA® comes in the following dosage forms:\n",
      "\n",
      "100mg/mL solution for injection in a single-dose pre-filled syringe\n",
      "\n",
      "TREMFYA One-Press® comes in the following dosage forms:\n",
      "\n",
      "\n",
      "\n",
      "\n",
      "Question: The indications of Tremfya. Tremfya is used to cure\n",
      "Answer:\n"
     ]
    }
   ],
   "source": [
    "print(response['prompt_builder']['prompt'])"
   ]
  },
  {
   "cell_type": "markdown",
   "metadata": {},
   "source": [
    "# Create Template for email\n",
    "\n",
    "* Head or Hero Section: The introductory portion that grabs attention.\n",
    "* Body: Includes the core message and call-to-actions (CTAs).\n",
    "* References/Footnotes: Any references or additional information links.\n",
    "* Important Safety Information: Mandatory for compliance with health regulations.\n",
    "* Footer: Contains generic brand or company information, which remains constant across most emails.\n"
   ]
  },
  {
   "cell_type": "code",
   "execution_count": 11,
   "metadata": {},
   "outputs": [],
   "source": [
    "approved_claims = [\n",
    "    'When your patient presents with moderate-to-severe plaque psoriasis, SAY TREMFYA®',\n",
    "    'TREMFYA®/TREMFYA ONE-PRESS® (guselkumab injection) is indicated for the treatment of adult patients with moderate-to-severe plaque psoriasis who are candidates for systemic therapy or phototherapy.',\n",
    "    'TREMFYA® demonstrated a superior PASI 90 response vs. COSENTYX at Week 48 (ITT population)',\n",
    "    'Indication not previously mentioned and clinical use:TREMFYA®/TREMFYA ONE-PRESS® is also indicated for the treatment of adult patients with active psoriatic arthritis. TREMFYA®/TREMFYA ONE-PRESS® can be used alone or in combination with a conventional disease-modifying antirheumatic drug (cDMARD) (e.g., methotrexate).'\n",
    "]\n",
    "\n",
    "user_inputs = {\n",
    "    'brand': 'Tremfya',\n",
    "    'email_title': 'PLACEHOLDER_TITLE',\n",
    "    'region': 'NORTH AMERICA',\n",
    "    'user_type': 'HCP', # or PATIENT\n",
    "    'brand_voice': 'FORMAL', # or INFORMAL\n",
    "    'email_goal': 'EDUCATIONAL', # or PROMOTIONAL, AWARNESS, Call to Action\n",
    "}\n",
    "\n",
    "NULL = 'NULL'\n",
    "output_template = {\n",
    "    'title': user_inputs['email_title'],\n",
    "    'body': NULL,\n",
    "    'reference': NULL, # source names of the files used in RAG or filtered based on user_inputs\n",
    "    'safety': NULL,\n",
    "    'footer': NULL\n",
    "}\n",
    "\n",
    "llm_system_prompt = 'You are a marketer working for a pharmaceutical company.\\\n",
    "    Your job is to generate core marketing claims based of a Product monograph. \\\n",
    "    The facts stated in the product monograph are dry material and must be turned into marketing \\\n",
    "    content while maintaining regulatory compliance and key factual information.'"
   ]
  },
  {
   "cell_type": "markdown",
   "metadata": {},
   "source": [
    "Outcome of meeting\n",
    "\n",
    "Three stage process\n",
    "\n",
    "dry material in product monograph - 1st stage\n",
    "marketing jargonned marketing claims dervied from the monograph - 2nd stage\n",
    "final email = contains a combination of 2nd (claims) and safety or reference(from 1st stage) - 3rd stage\n",
    "\n",
    "\n",
    "I can experiment :\n",
    "1- how to get from 1st to 2nd using LLM when prompting the whole or part of the PM to the model--- can we get new claims out of it?\n",
    "2- use the already used claims in email and get the safety information from the PM (basically populate the email for now)\n",
    "\n",
    "\n",
    "experiment 1:\n",
    "Tested prompt engineering with this context\n",
    "\n",
    "System: You are a marketer working for a pharmaceutical company. Your job is to generate core marketing claims based of a Product monograph. The facts stated in the product monograph are dry material and must be turned into marketing content while maintaining regulatory compliance and key factual information. \n",
    "\n",
    "Based of the Product Monograph (PM) stated below. Extract at least one marketing claim for that drug.\n",
    "\n",
    "PM:\n",
    "''' '''\n",
    "Claims:\n",
    "1- When your patient presents with moderate-to-severe plaque psoriasis, SAY TREMFYA®\n",
    "2- TREMFYA®/TREMFYA ONE-PRESS® (guselkumab injection) is indicated for the treatment of adult patients with moderate-to-severe plaque psoriasis who are candidates for systemic therapy or phototherapy.\n",
    "\n",
    "-------------------------\n",
    "Possible use of BM25 for retrieval of the relevant information from the PM\n",
    "https://haystack.deepset.ai/tutorials/34_extractive_qa_pipeline\n",
    "And then use the "
   ]
  },
  {
   "cell_type": "code",
   "execution_count": 10,
   "metadata": {},
   "outputs": [
    {
     "data": {
      "application/vnd.jupyter.widget-view+json": {
       "model_id": "890b5d3fe85d4f04ab0c06807d7fe4ed",
       "version_major": 2,
       "version_minor": 0
      },
      "text/plain": [
       "Batches:   0%|          | 0/1 [00:00<?, ?it/s]"
      ]
     },
     "metadata": {},
     "output_type": "display_data"
    }
   ],
   "source": [
    "from haystack.components.embedders import SentenceTransformersTextEmbedder\n",
    "from haystack.components.retrievers.in_memory import InMemoryEmbeddingRetriever\n",
    "from haystack.components.builders import PromptBuilder\n",
    "import os\n",
    "from getpass import getpass\n",
    "from haystack.components.generators import OpenAIGenerator\n",
    "\n",
    "os.environ[\"OPENAI_API_KEY\"] = MY_API_KEY\n",
    "\n",
    "text_embedder = SentenceTransformersTextEmbedder(model=\"sentence-transformers/all-MiniLM-L6-v2\")\n",
    "retriever = InMemoryEmbeddingRetriever(document_store=document_store)\n",
    "\n",
    "template = \"\"\"\n",
    "\n",
    "Product Monograph:\n",
    "{% for document in documents %}\n",
    "    {{ document.content }}\n",
    "{% endfor %}\n",
    "\n",
    "Based of the Product Monograph (PM) stated Above. Extract at least three marketing claim for that drug.\n",
    "\n",
    "Example:\n",
    "{% for claim in approved_claims %}\n",
    "    {{ loop.index }}. {{ claim }}\n",
    "{% endfor %}\n",
    "\n",
    "Marketing Claims:\n",
    "\"\"\"\n",
    "\n",
    "prompt_builder = PromptBuilder(template=template)\n",
    "generator = OpenAIGenerator(model=\"gpt-3.5-turbo\",system_prompt=llm_system_prompt, generation_kwargs={'temperature': 0.2})\n",
    "\n",
    "\n",
    "basic_rag_pipeline = Pipeline()\n",
    "# Add components to your pipeline\n",
    "basic_rag_pipeline.add_component(\"text_embedder\", text_embedder)\n",
    "basic_rag_pipeline.add_component(\"retriever\", retriever)\n",
    "basic_rag_pipeline.add_component(\"prompt_builder\", prompt_builder)\n",
    "basic_rag_pipeline.add_component(\"llm\", generator)\n",
    "\n",
    "# Now, connect the components to each other\n",
    "basic_rag_pipeline.connect(\"text_embedder.embedding\", \"retriever.query_embedding\")\n",
    "basic_rag_pipeline.connect(\"retriever\", \"prompt_builder.documents\")\n",
    "basic_rag_pipeline.connect(\"prompt_builder\", \"llm\")\n",
    "\n",
    "question = \"The indications of Tremfya\"\n",
    "response = basic_rag_pipeline.run({\"text_embedder\": {\"text\": question}, \"prompt_builder\": {'approved_claims': approved_claims}})"
   ]
  },
  {
   "cell_type": "code",
   "execution_count": 11,
   "metadata": {},
   "outputs": [
    {
     "data": {
      "text/plain": [
       "['1. Trust TREMFYA®/TREMFYA One-Press® to effectively treat moderate-to-severe plaque psoriasis in adult patients who are suitable for systemic therapy or phototherapy.',\n",
       " '',\n",
       " '2. Experience the power of TREMFYA® in achieving superior PASI 90 response compared to placebo, showcasing its efficacy in managing plaque psoriasis.',\n",
       " '',\n",
       " '3. Choose TREMFYA®/TREMFYA One-Press® for the treatment of active psoriatic arthritis in adult patients, either as a standalone therapy or in combination with a conventional disease-modifying antirheumatic drug for comprehensive care.']"
      ]
     },
     "execution_count": 11,
     "metadata": {},
     "output_type": "execute_result"
    }
   ],
   "source": [
    "response['llm']['replies'][0].split('\\n')"
   ]
  },
  {
   "cell_type": "code",
   "execution_count": 12,
   "metadata": {},
   "outputs": [
    {
     "data": {
      "text/plain": [
       "['1. Trust TREMFYA®/TREMFYA One-Press® to effectively treat moderate-to-severe plaque psoriasis in adult patients who are suitable for systemic therapy or phototherapy.',\n",
       " '',\n",
       " '2. Experience the power of TREMFYA® in achieving superior PASI 90 response compared to placebo, showcasing its efficacy in managing plaque psoriasis.',\n",
       " '',\n",
       " '3. Choose TREMFYA®/TREMFYA One-Press® for the treatment of active psoriatic arthritis in adult patients, either as a standalone therapy or in combination with a conventional disease-modifying antirheumatic drug for comprehensive care.']"
      ]
     },
     "execution_count": 12,
     "metadata": {},
     "output_type": "execute_result"
    }
   ],
   "source": [
    "response['llm']['replies'][0].split('\\n')"
   ]
  },
  {
   "cell_type": "code",
   "execution_count": null,
   "metadata": {},
   "outputs": [],
   "source": []
  },
  {
   "cell_type": "code",
   "execution_count": 13,
   "metadata": {},
   "outputs": [],
   "source": [
    "# build a retrieval pipeline to extract page number of a claim\n",
    "find_ref_pipeline = Pipeline()\n",
    "retriever = InMemoryEmbeddingRetriever(document_store=document_store, top_k=5)\n",
    "text_embedder = SentenceTransformersTextEmbedder(model=\"sentence-transformers/all-MiniLM-L6-v2\")\n",
    "\n",
    "# Add components to your pipeline\n",
    "find_ref_pipeline.add_component(\"text_embedder\", text_embedder)\n",
    "find_ref_pipeline.add_component(\"retriever\", retriever)\n",
    "\n",
    "# Now, connect the components to each other\n",
    "find_ref_pipeline.connect(\"text_embedder.embedding\", \"retriever.query_embedding\")\n",
    "find_ref_pipeline.warm_up()"
   ]
  },
  {
   "cell_type": "code",
   "execution_count": 14,
   "metadata": {},
   "outputs": [
    {
     "data": {
      "application/vnd.jupyter.widget-view+json": {
       "model_id": "45b3652632154b20967e716ef44e3409",
       "version_major": 2,
       "version_minor": 0
      },
      "text/plain": [
       "Batches:   0%|          | 0/1 [00:00<?, ?it/s]"
      ]
     },
     "metadata": {},
     "output_type": "display_data"
    },
    {
     "name": "stdout",
     "output_type": "stream",
     "text": [
      "Infections\n",
      "\n",
      "TREMFYA®/TREMFYA One-Press® is a selective immunomodulatory agent which has the potential to increase the risk of infection. Infections have been observed in clinical trials in plaque psoriasis (23% vs 21% for placebo; ≤ 0.2% serious infections in both groups) and psoriatic arthritis (21% in both TREMFYA® and placebo groups; ≤ 0.8% serious infections in both groups). The most common type of infection reported was respiratory tract infection. (See \n",
      "8 ADVERSE REACTIONS, Infections)\n",
      "\n",
      "Treatment with TREMFYA®/TREMFYA One-Press® should not be initiated in patients with any clinically important active infection until the infection resolves or is adequately treated. \n",
      "\n",
      "Instruct patients treated with TREMFYA®/TREMFYA One-Press® to seek medical advice if signs or symptoms of clinically important chronic or acute infection occur. If a patient develops a clinically important or serious infection or is not responding to standard therapy, monitor the patient closely and discontinue TREMFYA®/TREMFYA One-Press® until the infection resolves.\n",
      "\n",
      "\n",
      "PAGE NUMBER################# 7\n",
      "TREMFYA®/TREMFYA One-Press® (guselkumab injection) is indicated for:\n",
      "the treatment of adult patients with moderate-to-severe plaque psoriasis who are candidates for systemic therapy or phototherapy. \n",
      "\n",
      "TREMFYA®/TREMFYA One-Press® (guselkumab injection) is indicated for: \n",
      "the treatment of adult patients with active psoriatic arthritis. TREMFYA®/TREMFYA One-\n",
      "Press® can be used alone or in combination with a conventional disease-modifying antirheumatic drug (cDMARD) (e.g., methotrexate).\n",
      "\n",
      "The safety and efficacy of TREMFYA®/TREMFYA One-Press® in pediatric patients have not been evaluated.\n",
      "\n",
      "Of the 3406 plaque psoriasis and psoriatic arthritis patients exposed to TREMFYA®/TREMFYA \n",
      "One-Press® in Phase 2 and Phase 3 clinical trials, a limited number of patients were 65 years or older (n = 185, 5%) or 75 years and older (n=13, 0.4%). Thus, data in these age groups are limited (see 10 CLINICAL PHARMACOLOGY).\n",
      "\n",
      "\n",
      "PAGE NUMBER################# 4\n",
      "Read this carefully before you start taking TREMFYA®/TREMFYA One-Press® and each time you get a refill. This leaflet is a summary and will not tell you everything about this drug. Talk to your healthcare professional about your medical condition and treatment and ask if there is any new information about TREMFYA®/TREMFYA One-Press®. \n",
      "\n",
      "What is TREMFYA®/TREMFYA One-Press® used for?\n",
      "\n",
      " Plaque Psoriasis\n",
      "\n",
      "TREMFYA®/TREMFYA One-Press® is a prescription medicine used to treat adults with moderate to severe “plaque psoriasis”, an inflammatory condition affecting the skin and nails. \n",
      "Plaque psoriasis can cause raised, thick, red and scaly patches (“psoriatic lesions”) that can appear anywhere on your body. TREMFYA®/TREMFYA One-Press® reduces the inflammation and other symptoms of the disease.\n",
      "\n",
      "\n",
      "PAGE NUMBER################# 27\n",
      "7.1.4 Geriatrics\n",
      "\n",
      "Of the 3406 plaque psoriasis and psoriatic arthritis patients exposed to TREMFYA®/TREMFYA \n",
      "One-Press® in Phase 2 and Phase 3 clinical trials, a limited number of patients were 65 years or older (n = 185, 5%) or 75 years and older (n=13, 0.4%). Thus data in these age groups are limited (see 10 CLINICAL PHARMACOLOGY). \n",
      "\n",
      "8 ADVERSE REACTIONS\n",
      "\n",
      "8.1 Adverse Reaction Overview\n",
      "\n",
      "\n",
      "PAGE NUMBER################# 9\n",
      "TREMFYA®/TREMFYA One-Press® is a prescription medicine used to treat adults with moderate to severe “plaque psoriasis”, an inflammatory condition affecting the skin and nails. \n",
      "Plaque psoriasis can cause raised, thick, red and scaly patches (“psoriatic lesions”) that can appear anywhere on your body. TREMFYA®/TREMFYA One-Press® reduces the inflammation and other symptoms of the disease.\n",
      "\n",
      " Psoriatic Arthritis\n",
      "\n",
      "TREMFYA®/TREMFYA One-Press® is used to treat adults with active psoriatic arthritis. Psoriatic arthritis is an inflammatory disease of the joints, usually accompanied by psoriasis. Psoriatic arthritis can cause pain, swelling and stiffness in the joints, in addition to a disruption in daily activities and fatigue. If you have active psoriatic arthritis, you will be given \n",
      "TREMFYA®/TREMFYA One-Press® alone or in combination with a conventional Disease \n",
      "Modifying Anti-Rheumatic Drug (cDMARD) such as methotrexate. TREMFYA®/TREMFYA One-\n",
      "Press® reduces signs and symptoms of your arthritis and may improve symptoms in patients that have psoriasis.\n",
      "\n",
      "How does TREMFYA®/TREMFYA One-Press® work?\n",
      "\n",
      "\n",
      "PAGE NUMBER################# 27\n"
     ]
    }
   ],
   "source": [
    "claim_to_ref = \"Don't let infections hold you back - Choose TREMFYA®/TREMFYA One-Press® for effective treatment of moderate-to-severe plaque psoriasis.\"\n",
    "response = find_ref_pipeline.run({\"text_embedder\": {\"text\": claim_to_ref}})\n",
    "# response['retriever']['documents']\n",
    "for doc in response['retriever']['documents']:\n",
    "    print(doc.content)\n",
    "    print(\"PAGE NUMBER#################\",doc.meta['page'])"
   ]
  },
  {
   "cell_type": "code",
   "execution_count": 15,
   "metadata": {},
   "outputs": [
    {
     "data": {
      "text/plain": [
       "[Document(id=bab7f7b5b440b549990301cd019bab27869925a502cdf08a760c4959bd324577, content: 'Infections\n",
       " \n",
       " TREMFYA®/TREMFYA One-Press® is a selective immunomodulatory agent which has the potentia...', meta: {'source': 'data\\\\MASTER_TremfyaPM_08Nov2022_annotated.pdf', 'page': 7, 'drug-name': 'Tremfya', 'material-type': 'PM', 'source_id': '45cb171b161c23ef54900256b6d98e39b56197f40a61c98a959883bf7895bd98'}, score: 0.8596294450483619),\n",
       " Document(id=b7b59f961463db37ef36084a7f6a107c90574673e9b43ba50d0d13cfdfb47966, content: 'TREMFYA®/TREMFYA One-Press® (guselkumab injection) is indicated for:\n",
       " the treatment of adult patients...', meta: {'source': 'data\\\\MASTER_TremfyaPM_08Nov2022_annotated.pdf', 'page': 4, 'drug-name': 'Tremfya', 'material-type': 'PM', 'source_id': 'd12990e5789bb24e8ca21bd0650ef098ba098108e743b7614f0fdefe5a53b3c1'}, score: 0.8395703991704484),\n",
       " Document(id=8aea02a424d2618d401448d938167770499b536a5ad0bb5383ad508a14774be9, content: 'Read this carefully before you start taking TREMFYA®/TREMFYA One-Press® and each time you get a refi...', meta: {'source': 'data\\\\MASTER_TremfyaPM_08Nov2022_annotated.pdf', 'page': 27, 'drug-name': 'Tremfya', 'material-type': 'PM', 'source_id': 'abb68ec410b7db9e69288c2bbe2902497fa5ed4bdea94abe50797297de3bdd8b'}, score: 0.8385154392042333),\n",
       " Document(id=f035179adf4885e3c165a2049215cb2caba5140ee277c76d7a11f743de103486, content: '7.1.4 Geriatrics\n",
       " \n",
       " Of the 3406 plaque psoriasis and psoriatic arthritis patients exposed to TREMFYA®/...', meta: {'source': 'data\\\\MASTER_TremfyaPM_08Nov2022_annotated.pdf', 'page': 9, 'drug-name': 'Tremfya', 'material-type': 'PM', 'source_id': '5ee1e3614c9360e46066cd020987d3796fce4a9a167af4bec7d4186a6c3887ea'}, score: 0.8370949187429914),\n",
       " Document(id=1b741dc2beb410c670906b4b83fd93a05ff4cd7860f6dec2afc9307ce75e1123, content: 'TREMFYA®/TREMFYA One-Press® is a prescription medicine used to treat adults with moderate to severe ...', meta: {'source': 'data\\\\MASTER_TremfyaPM_08Nov2022_annotated.pdf', 'page': 27, 'drug-name': 'Tremfya', 'material-type': 'PM', 'source_id': 'abb68ec410b7db9e69288c2bbe2902497fa5ed4bdea94abe50797297de3bdd8b'}, score: 0.8354003131818766)]"
      ]
     },
     "execution_count": 15,
     "metadata": {},
     "output_type": "execute_result"
    }
   ],
   "source": [
    "response['retriever']['documents']\n"
   ]
  },
  {
   "cell_type": "code",
   "execution_count": 1,
   "metadata": {},
   "outputs": [
    {
     "ename": "NameError",
     "evalue": "name 'final_docs' is not defined",
     "output_type": "error",
     "traceback": [
      "\u001b[1;31m---------------------------------------------------------------------------\u001b[0m",
      "\u001b[1;31mNameError\u001b[0m                                 Traceback (most recent call last)",
      "Cell \u001b[1;32mIn[1], line 8\u001b[0m\n\u001b[0;32m      5\u001b[0m reader \u001b[38;5;241m=\u001b[39m ExtractiveReader()\n\u001b[0;32m      6\u001b[0m reader\u001b[38;5;241m.\u001b[39mwarm_up()\n\u001b[1;32m----> 8\u001b[0m reader\u001b[38;5;241m.\u001b[39mrun(query\u001b[38;5;241m=\u001b[39m\u001b[38;5;124m\"\u001b[39m\u001b[38;5;124mWhat are the indications of the Tremfya drug?\u001b[39m\u001b[38;5;124m\"\u001b[39m, documents\u001b[38;5;241m=\u001b[39m\u001b[43mfinal_docs\u001b[49m[\u001b[38;5;124m'\u001b[39m\u001b[38;5;124mdocuments\u001b[39m\u001b[38;5;124m'\u001b[39m], top_k\u001b[38;5;241m=\u001b[39m\u001b[38;5;241m2\u001b[39m)\n",
      "\u001b[1;31mNameError\u001b[0m: name 'final_docs' is not defined"
     ]
    }
   ],
   "source": [
    "from haystack.components.readers import ExtractiveReader\n",
    "import accelerate\n",
    "# Extractive reader\n",
    "\n",
    "reader = ExtractiveReader()\n",
    "reader.warm_up()\n",
    "\n",
    "reader.run(query=\"What are the indications of the Tremfya drug?\", documents=final_docs['documents'], top_k=2)"
   ]
  },
  {
   "cell_type": "code",
   "execution_count": 13,
   "metadata": {},
   "outputs": [
    {
     "ename": "ModuleNotFoundError",
     "evalue": "No module named 'haystack.nodes'",
     "output_type": "error",
     "traceback": [
      "\u001b[1;31m---------------------------------------------------------------------------\u001b[0m",
      "\u001b[1;31mModuleNotFoundError\u001b[0m                       Traceback (most recent call last)",
      "Cell \u001b[1;32mIn[13], line 1\u001b[0m\n\u001b[1;32m----> 1\u001b[0m \u001b[38;5;28;01mfrom\u001b[39;00m \u001b[38;5;21;01mhaystack\u001b[39;00m\u001b[38;5;21;01m.\u001b[39;00m\u001b[38;5;21;01mnodes\u001b[39;00m \u001b[38;5;28;01mimport\u001b[39;00m BM25Retriever\n\u001b[0;32m      2\u001b[0m \u001b[38;5;28;01mfrom\u001b[39;00m \u001b[38;5;21;01mhaystack\u001b[39;00m\u001b[38;5;21;01m.\u001b[39;00m\u001b[38;5;21;01mnodes\u001b[39;00m \u001b[38;5;28;01mimport\u001b[39;00m FARMReader\n\u001b[0;32m      4\u001b[0m reader \u001b[38;5;241m=\u001b[39m FARMReader(model_name_or_path\u001b[38;5;241m=\u001b[39m\u001b[38;5;124m\"\u001b[39m\u001b[38;5;124mdeepset/roberta-base-squad2\u001b[39m\u001b[38;5;124m\"\u001b[39m, use_gpu\u001b[38;5;241m=\u001b[39m\u001b[38;5;28;01mTrue\u001b[39;00m)\n",
      "\u001b[1;31mModuleNotFoundError\u001b[0m: No module named 'haystack.nodes'"
     ]
    }
   ],
   "source": [
    "from haystack.nodes import BM25Retriever\n",
    "from haystack.nodes import FARMReader\n",
    "\n",
    "reader = FARMReader(model_name_or_path=\"deepset/roberta-base-squad2\", use_gpu=True)\n",
    "retriever = BM25Retriever(document_store=document_store)\n"
   ]
  },
  {
   "cell_type": "code",
   "execution_count": null,
   "metadata": {},
   "outputs": [],
   "source": []
  }
 ],
 "metadata": {
  "kernelspec": {
   "display_name": ".env",
   "language": "python",
   "name": "python3"
  },
  "language_info": {
   "codemirror_mode": {
    "name": "ipython",
    "version": 3
   },
   "file_extension": ".py",
   "mimetype": "text/x-python",
   "name": "python",
   "nbconvert_exporter": "python",
   "pygments_lexer": "ipython3",
   "version": "3.10.1"
  }
 },
 "nbformat": 4,
 "nbformat_minor": 2
}
